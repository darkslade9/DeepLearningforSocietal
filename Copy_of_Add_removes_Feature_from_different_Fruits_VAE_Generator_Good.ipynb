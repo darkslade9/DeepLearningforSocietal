{
  "nbformat": 4,
  "nbformat_minor": 0,
  "metadata": {
    "colab": {
      "name": "Copy of Add removes Feature from different Fruits VAE Generator Good.ipynb",
      "provenance": [],
      "collapsed_sections": [],
      "include_colab_link": true
    },
    "kernelspec": {
      "name": "python3",
      "display_name": "Python 3"
    },
    "accelerator": "GPU"
  },
  "cells": [
    {
      "cell_type": "markdown",
      "metadata": {
        "id": "view-in-github",
        "colab_type": "text"
      },
      "source": [
        "<a href=\"https://colab.research.google.com/github/rajagopalmotivate/DeepLearningforSocietal/blob/main/Copy_of_Add_removes_Feature_from_different_Fruits_VAE_Generator_Good.ipynb\" target=\"_parent\"><img src=\"https://colab.research.google.com/assets/colab-badge.svg\" alt=\"Open In Colab\"/></a>"
      ]
    },
    {
      "cell_type": "code",
      "metadata": {
        "id": "YWeHEXgip082"
      },
      "source": [
        "!pip install kaggle"
      ],
      "execution_count": null,
      "outputs": []
    },
    {
      "cell_type": "code",
      "metadata": {
        "id": "qYVSTrJKV8bN"
      },
      "source": [
        "%tensorflow_version 1.x\n"
      ],
      "execution_count": null,
      "outputs": []
    },
    {
      "cell_type": "code",
      "metadata": {
        "id": "cem2Uk7dp5Zq"
      },
      "source": [
        "from google.colab import files\n",
        "\n",
        "uploaded = files.upload()\n",
        "\n",
        "for fn in uploaded.keys():\n",
        "  print('User uploaded file \"{name}\" with length {length} bytes'.format(\n",
        "      name=fn, length=len(uploaded[fn])))\n",
        "  \n",
        "# Then move kaggle.json into the folder where the API expects to find it.\n",
        "!mkdir -p ~/.kaggle/ && mv kaggle.json ~/.kaggle/ && chmod 600 ~/.kaggle/kaggle.json"
      ],
      "execution_count": null,
      "outputs": []
    },
    {
      "cell_type": "code",
      "metadata": {
        "id": "ql0GxTIWV0MQ"
      },
      "source": [
        ""
      ],
      "execution_count": null,
      "outputs": []
    },
    {
      "cell_type": "code",
      "metadata": {
        "id": "7OsgUS7Wp8ON"
      },
      "source": [
        "!kaggle datasets download \"moltean/fruits\"\n"
      ],
      "execution_count": null,
      "outputs": []
    },
    {
      "cell_type": "code",
      "metadata": {
        "id": "i7l270UGqBrx"
      },
      "source": [
        "import os\n",
        "import zipfile\n",
        "\n",
        "if True:\n",
        "    zip_ref = zipfile.ZipFile('fruits.zip', 'r')\n",
        "    zip_ref.extractall()\n",
        "    zip_ref.close()"
      ],
      "execution_count": null,
      "outputs": []
    },
    {
      "cell_type": "code",
      "metadata": {
        "id": "_U8sxOVxqEqy"
      },
      "source": [
        "!ls fruits-360_dataset/fruits-360/Training/"
      ],
      "execution_count": null,
      "outputs": []
    },
    {
      "cell_type": "code",
      "metadata": {
        "id": "TLhBlRaXSivV"
      },
      "source": [
        ""
      ],
      "execution_count": null,
      "outputs": []
    },
    {
      "cell_type": "code",
      "metadata": {
        "id": "h6SoJCovFspe"
      },
      "source": [
        "! mv fruits-360_dataset/fruits-360 fruits-360"
      ],
      "execution_count": null,
      "outputs": []
    },
    {
      "cell_type": "code",
      "metadata": {
        "id": "5Ml9_FN1EGif"
      },
      "source": [
        "epilison = 0\n",
        "\n",
        "#epilison = 1\n",
        "\n"
      ],
      "execution_count": null,
      "outputs": []
    },
    {
      "cell_type": "code",
      "metadata": {
        "id": "PZ5ix8DIqIXk"
      },
      "source": [
        "import matplotlib.pyplot as plt\n",
        "import seaborn as sns\n",
        "import math\n",
        "import os\n",
        "import pickle\n",
        "import numpy as np\n",
        "from PIL import Image\n",
        "from keras.preprocessing.image import img_to_array"
      ],
      "execution_count": null,
      "outputs": []
    },
    {
      "cell_type": "code",
      "metadata": {
        "id": "YMebIb0_qIaa"
      },
      "source": [
        "from keras import applications\n",
        "from keras import backend as K\n",
        "from keras import optimizers\n",
        "from keras.callbacks import ModelCheckpoint, History\n",
        "from keras.layers import Dense, Input, UpSampling2D, Conv2D\n",
        "from keras.models import Model\n",
        "from keras.preprocessing.image import ImageDataGenerator\n"
      ],
      "execution_count": null,
      "outputs": []
    },
    {
      "cell_type": "markdown",
      "metadata": {
        "id": "q-UjdypkxUny"
      },
      "source": [
        "## location of data"
      ]
    },
    {
      "cell_type": "code",
      "metadata": {
        "id": "v-W1tqOWxXCP"
      },
      "source": [
        "img = plt.imread('fruits-360/Training/Banana/66_100.jpg')\n",
        "plt.imshow(img)"
      ],
      "execution_count": null,
      "outputs": []
    },
    {
      "cell_type": "code",
      "metadata": {
        "id": "iwleD8_lxepM"
      },
      "source": [
        "img_width, img_height = 64, 64\n",
        "train_data_dir = \"fruits-360/Training\"\n",
        "validation_data_dir = \"fruits-360/Test\"\n",
        "batch_size = 64\n",
        "nb_epoch = 1\n",
        "nb_channels= 3"
      ],
      "execution_count": null,
      "outputs": []
    },
    {
      "cell_type": "markdown",
      "metadata": {
        "id": "g0chnE3KsSFC"
      },
      "source": [
        "## Config"
      ]
    },
    {
      "cell_type": "code",
      "metadata": {
        "id": "YrjiyMsWqSpd"
      },
      "source": [
        "def fixed_generator(generator):\n",
        "    for batch in generator:\n",
        "        yield (batch, batch)"
      ],
      "execution_count": null,
      "outputs": []
    },
    {
      "cell_type": "markdown",
      "metadata": {
        "id": "sWVtUTb8sVS9"
      },
      "source": [
        "## Data loaders"
      ]
    },
    {
      "cell_type": "code",
      "metadata": {
        "id": "tBwpiovqsGZP"
      },
      "source": [
        "train_datagen_cnn = ImageDataGenerator(\n",
        "        rescale=1./255,\n",
        "        shear_range=0.2,\n",
        "        zoom_range=0.2,\n",
        "        horizontal_flip=True)\n",
        "\n",
        "test_datagen_cnn = ImageDataGenerator(rescale=1./255)"
      ],
      "execution_count": null,
      "outputs": []
    },
    {
      "cell_type": "code",
      "metadata": {
        "id": "k02W96k_sJjo"
      },
      "source": [
        "train_generator_cnn = train_datagen_cnn.flow_from_directory(\n",
        "        train_data_dir,\n",
        "        target_size=(img_width, img_height),\n",
        "        batch_size=batch_size,\n",
        "        class_mode=None, shuffle=True)"
      ],
      "execution_count": null,
      "outputs": []
    },
    {
      "cell_type": "code",
      "metadata": {
        "id": "_YMWBJs5sMsa"
      },
      "source": [
        "validation_generator_cnn = test_datagen_cnn.flow_from_directory(\n",
        "        validation_data_dir,\n",
        "        target_size=(img_width, img_height),\n",
        "        batch_size=batch_size,\n",
        "        class_mode=None, shuffle=True)"
      ],
      "execution_count": null,
      "outputs": []
    },
    {
      "cell_type": "code",
      "metadata": {
        "id": "cmjFIDZisGc9"
      },
      "source": [
        ""
      ],
      "execution_count": null,
      "outputs": []
    },
    {
      "cell_type": "markdown",
      "metadata": {
        "id": "oSyRy1bosXur"
      },
      "source": [
        "## models"
      ]
    },
    {
      "cell_type": "code",
      "metadata": {
        "id": "OrN3JiPMsGhW"
      },
      "source": [
        "def AE_CNN():\n",
        "    input_img = Input(shape=(img_width, img_height, 3))\n",
        "    \n",
        "    # Encoding network\n",
        "    x = Conv2D(16, (3, 3), activation='relu', padding='same', strides=2)(input_img)\n",
        "    x = Conv2D(32, (3, 3), activation='relu', padding='same', strides=2)(x)\n",
        "    encoded = Conv2D(32, (2, 2), activation='relu', padding=\"same\", strides=2)(x)\n",
        "\n",
        "    # Decoding network\n",
        "    x = Conv2D(32, (2, 2), activation='relu', padding=\"same\")(encoded)\n",
        "    x = UpSampling2D((2, 2))(x)\n",
        "    x = Conv2D(32, (3, 3), activation='relu', padding='same')(x)\n",
        "    x = UpSampling2D((2, 2))(x)\n",
        "    x = Conv2D(16, (3, 3), activation='relu')(x)\n",
        "    x = UpSampling2D((2, 2))(x)\n",
        "    decoded = Conv2D(3, (3, 3), activation='sigmoid', padding='same')(x)\n",
        "    \n",
        "    return Model(input_img, decoded)"
      ],
      "execution_count": null,
      "outputs": []
    },
    {
      "cell_type": "code",
      "metadata": {
        "id": "Lk3vARix2F14"
      },
      "source": [
        "from keras.models import Sequential\n",
        "from keras.layers import Dense, Conv2D, Dropout, Flatten, MaxPooling2D\n",
        "from keras.layers import Dense, Input\n",
        "from keras.layers import Conv2D, Flatten, Lambda\n",
        "from keras.layers import Reshape, Conv2DTranspose\n",
        "from keras.models import Model\n",
        "from keras.datasets import mnist, fashion_mnist, cifar10\n",
        "from keras.losses import mse, binary_crossentropy\n",
        "from keras import backend as K\n",
        "\n",
        "import numpy as np\n",
        "import matplotlib.pyplot as plt\n",
        "import argparse\n",
        "import os\n",
        "import copy\n",
        "from keras.utils import plot_model\n",
        "from google.colab import files\n"
      ],
      "execution_count": null,
      "outputs": []
    },
    {
      "cell_type": "code",
      "metadata": {
        "id": "6nimAqak2L71"
      },
      "source": [
        "#@title\n",
        "\n",
        "\n",
        "\n",
        "# reparameterization trick\n",
        "# instead of sampling from Q(z|X), sample eps = N(0,I)\n",
        "# then z = z_mean + sqrt(var)*eps\n",
        "def sampling(args):\n",
        "    \"\"\"Reparameterization trick by sampling fr an isotropic unit Gaussian.\n",
        "    # Arguments:\n",
        "        args (tensor): mean and log of variance of Q(z|X)\n",
        "    # Returns:\n",
        "        z (tensor): sampled latent vector\n",
        "    \"\"\"\n",
        "\n",
        "    z_mean, z_log_var = args\n",
        "    batch = K.shape(z_mean)[0]\n",
        "    dim = K.int_shape(z_mean)[1]\n",
        "    # by default, random_normal has mean=0 and std=1.0\n",
        "    epsilon =  K.random_normal(shape=(batch, dim))\n",
        "    #epsilon = 0 \n",
        "    return z_mean + K.exp(0.5 * z_log_var) * epsilon\n",
        "\n",
        "\n",
        "\n",
        "\n",
        "\n",
        "image_size = img_width"
      ],
      "execution_count": null,
      "outputs": []
    },
    {
      "cell_type": "code",
      "metadata": {
        "id": "Z_ZEYxFI2Ojv"
      },
      "source": [
        "# network parameters\n",
        "input_shape = (image_size, image_size, 3)\n",
        "kernel_size = 5\n",
        "filters = 16\n",
        "latent_dim_colums = 40\n",
        "latent_dim = 80 * latent_dim_colums\n",
        "epochs = 10\n",
        "\n",
        "# VAE model = encoder + decoder\n",
        "# build encoder model\n",
        "inputs = Input(shape=input_shape, name='encoder_input')\n",
        "x = inputs\n",
        "for i in range(3):\n",
        "    filters *= 2\n",
        "    x = Conv2D(filters=filters,\n",
        "               kernel_size=kernel_size,\n",
        "               activation='relu',\n",
        "               strides=2,\n",
        "               padding='same')(x)\n",
        "\n",
        "# shape info needed to build decoder model\n",
        "shape = K.int_shape(x)\n"
      ],
      "execution_count": null,
      "outputs": []
    },
    {
      "cell_type": "code",
      "metadata": {
        "id": "a1sA6bLO2O16"
      },
      "source": [
        "#@title\n",
        "# generate latent vector Q(z|X)\n",
        "x = Flatten()(x)\n",
        "x = Dense(1024, activation='relu')(x)\n",
        "z_mean = Dense(latent_dim, name='z_mean')(x)\n",
        "z_log_var = Dense(latent_dim, name='z_log_var')(x)\n",
        "\n"
      ],
      "execution_count": null,
      "outputs": []
    },
    {
      "cell_type": "code",
      "metadata": {
        "id": "5GiN1L-y2PQV"
      },
      "source": [
        "#@title\n",
        "# use reparameterization trick to push the sampling out as input\n",
        "# note that \"output_shape\" isn't necessary with the TensorFlow backend\n",
        "z = Lambda(sampling, output_shape=(latent_dim,), name='z')([z_mean, z_log_var])\n",
        "\n"
      ],
      "execution_count": null,
      "outputs": []
    },
    {
      "cell_type": "code",
      "metadata": {
        "id": "cgDWFMrR2Pj9"
      },
      "source": [
        "#@title\n",
        "# instantiate encoder model\n",
        "encoder = Model(inputs, [z_mean, z_log_var, z], name='encoder')\n",
        "encoder.summary()\n",
        "plot_model(encoder, to_file='vae_cnn_encoder.png', show_shapes=True)"
      ],
      "execution_count": null,
      "outputs": []
    },
    {
      "cell_type": "code",
      "metadata": {
        "id": "Hye3rgyS2PMW"
      },
      "source": [
        "files.download('vae_cnn_encoder.png')"
      ],
      "execution_count": null,
      "outputs": []
    },
    {
      "cell_type": "code",
      "metadata": {
        "id": "zUQ6NVbi2agW"
      },
      "source": [
        "#@title\n",
        "# build decoder model\n",
        "latent_inputs = Input(shape=(latent_dim,), name='z_sampling')\n",
        "x = Dense(shape[1] * shape[2] * shape[3], activation='relu')(latent_inputs)\n",
        "x = Reshape((shape[1], shape[2], shape[3]))(x)\n",
        "\n",
        "for i in range(3):\n",
        "    x = Conv2DTranspose(filters=filters,\n",
        "                        kernel_size=kernel_size,\n",
        "                        activation='relu',\n",
        "                        strides=2,\n",
        "                        padding='same')(x)\n",
        "    filters //= 2\n",
        "\n",
        "outputs = Conv2DTranspose(filters=3,\n",
        "                          kernel_size=kernel_size,\n",
        "                          activation='sigmoid',\n",
        "                          padding='same',\n",
        "                          name='decoder_output')(x)\n",
        "\n",
        "# instantiate decoder model\n",
        "decoder = Model(latent_inputs, outputs, name='decoder')\n",
        "decoder.summary()\n",
        "plot_model(decoder, to_file='vae_cnn_decoder.png', show_shapes=True)\n",
        "\n",
        "\n",
        "decoderVisvalizer = Model(latent_inputs, x, name='decoderVisuvalizer')\n",
        "#plot_model(decoderVisvalizer, to_file='decoderVisuvalizer.png', show_shapes=True)\n",
        "\n",
        "\n"
      ],
      "execution_count": null,
      "outputs": []
    },
    {
      "cell_type": "code",
      "metadata": {
        "id": "FlBu9N5P2a5s"
      },
      "source": [
        "#@title\n",
        "# instantiate VAE model\n",
        "outputs = decoder( encoder(inputs)[2] )\n",
        "vae = Model(inputs, outputs, name='vae')\n",
        "\n"
      ],
      "execution_count": null,
      "outputs": []
    },
    {
      "cell_type": "code",
      "metadata": {
        "id": "WhasQOVc2a10"
      },
      "source": [
        "#@title\n",
        "\n",
        "#models = (encoder, decoder)\n",
        "#data = (x_test, y_test)\n",
        "\n",
        "def mylosscustomNand(inputs, outputs):\n",
        "\n",
        "  typeoflossfun = False \n",
        "      # VAE loss = mse_loss or xent_loss + kl_loss\n",
        "  if typeoflossfun:\n",
        "          reconstruction_loss = mse(K.flatten(inputs), K.flatten(outputs))\n",
        "  else:\n",
        "          reconstruction_loss = binary_crossentropy(K.flatten(inputs),\n",
        "                                                    K.flatten(outputs))\n",
        "\n",
        "  print(reconstruction_loss.shape)\n",
        "\n",
        "  reconstruction_loss *= image_size * image_size\n",
        "  print(reconstruction_loss.shape)\n",
        "  kl_loss = 1 + z_log_var - K.square(z_mean) - K.exp(z_log_var)\n",
        "\n",
        "  print(kl_loss.shape)\n",
        "\n",
        "  kl_loss = K.sum(kl_loss, axis=-1)\n",
        "  print(kl_loss.shape)\n",
        "\n",
        "  kl_loss *= -0.5\n",
        "\n",
        "  kl_loss = kl_loss * epilison\n",
        "\n",
        "  vae_loss = K.mean(reconstruction_loss + kl_loss)\n",
        "\n",
        "\n",
        "  print(vae_loss.shape)\n",
        "\n",
        "  return vae_loss\n",
        "\n",
        "\n",
        "\n"
      ],
      "execution_count": null,
      "outputs": []
    },
    {
      "cell_type": "code",
      "metadata": {
        "id": "0zMQ4WMp7L59"
      },
      "source": [
        "#vae.add_loss(vae_loss)\n"
      ],
      "execution_count": null,
      "outputs": []
    },
    {
      "cell_type": "code",
      "metadata": {
        "id": "0kqZ1mBj2axZ"
      },
      "source": [
        "#vae.compile(optimizer='rmsprop')\n",
        "\n",
        "#vae.summary()\n",
        "\n",
        "#plot_model(vae, to_file='vae_cnn.png', show_shapes=True) "
      ],
      "execution_count": null,
      "outputs": []
    },
    {
      "cell_type": "code",
      "metadata": {
        "id": "z96NZhVp2ab1"
      },
      "source": [
        ""
      ],
      "execution_count": null,
      "outputs": []
    },
    {
      "cell_type": "code",
      "metadata": {
        "id": "pTqqAYla2Oxk"
      },
      "source": [
        "autoencoder_cnn = vae"
      ],
      "execution_count": null,
      "outputs": []
    },
    {
      "cell_type": "code",
      "metadata": {
        "id": "WCJbQOUysGkp"
      },
      "source": [
        "\n",
        "#autoencoder_cnn = AE_CNN()\n",
        "autoencoder_cnn.compile(optimizer='adadelta', loss=mylosscustomNand)"
      ],
      "execution_count": null,
      "outputs": []
    },
    {
      "cell_type": "code",
      "metadata": {
        "id": "qCLg4fjy4zJk"
      },
      "source": [
        ""
      ],
      "execution_count": null,
      "outputs": []
    },
    {
      "cell_type": "code",
      "metadata": {
        "id": "kAjg0HHK5jxw"
      },
      "source": [
        "autoencoder_cnn.fit_generator(\n",
        "    fixed_generator(train_generator_cnn),\n",
        "    samples_per_epoch=math.floor(41322  / batch_size),\n",
        "    nb_epoch=1,\n",
        "\n",
        "        )"
      ],
      "execution_count": null,
      "outputs": []
    },
    {
      "cell_type": "code",
      "metadata": {
        "id": "um07Zl-MsfaE"
      },
      "source": [
        "autoencoder_cnn.fit_generator(\n",
        "    fixed_generator(train_generator_cnn),\n",
        "    samples_per_epoch=math.floor(41322  / batch_size),\n",
        "    nb_epoch=nb_epoch,\n",
        "    validation_data=fixed_generator(validation_generator_cnn),\n",
        "    nb_val_samples=math.floor(13877  / batch_size),\n",
        "    verbose=1\n",
        "        )"
      ],
      "execution_count": null,
      "outputs": []
    },
    {
      "cell_type": "code",
      "metadata": {
        "id": "OHdftEqU4wRz"
      },
      "source": [
        ""
      ],
      "execution_count": null,
      "outputs": []
    },
    {
      "cell_type": "code",
      "metadata": {
        "id": "D2qigWUqsGn2"
      },
      "source": [
        ""
      ],
      "execution_count": null,
      "outputs": []
    },
    {
      "cell_type": "code",
      "metadata": {
        "id": "QYL1BZeSsGql"
      },
      "source": [
        "x_test = validation_generator_cnn.next()\n"
      ],
      "execution_count": null,
      "outputs": []
    },
    {
      "cell_type": "code",
      "metadata": {
        "id": "JTIEY5mOsGtk"
      },
      "source": [
        "decoded_imgs = autoencoder_cnn.predict(x_test)\n"
      ],
      "execution_count": null,
      "outputs": []
    },
    {
      "cell_type": "code",
      "metadata": {
        "id": "lctcg7ypsGxD"
      },
      "source": [
        "n = 10\n",
        "plt.figure(figsize=(20, 4))\n",
        "for i in range(n):\n",
        "    # display original\n",
        "    ax = plt.subplot(2, n, i+1)\n",
        "    plt.imshow(x_test[i])\n",
        "    plt.gray()\n",
        "    ax.get_xaxis().set_visible(False)\n",
        "    ax.get_yaxis().set_visible(False)\n",
        "\n",
        "    # display reconstruction\n",
        "    ax = plt.subplot(2, n, i + n+1)\n",
        "    plt.imshow(decoded_imgs[i])\n",
        "    plt.gray()\n",
        "    ax.get_xaxis().set_visible(False)\n",
        "    ax.get_yaxis().set_visible(False)\n",
        "plt.show()"
      ],
      "execution_count": null,
      "outputs": []
    },
    {
      "cell_type": "code",
      "metadata": {
        "id": "mqdadW2ZVVJc"
      },
      "source": [
        "digit_size = image_size"
      ],
      "execution_count": null,
      "outputs": []
    },
    {
      "cell_type": "code",
      "metadata": {
        "id": "WQiRCOMHVbr0"
      },
      "source": [
        "\n",
        "\n",
        "\n"
      ],
      "execution_count": null,
      "outputs": []
    },
    {
      "cell_type": "code",
      "metadata": {
        "id": "hWjHOZMbVrtU"
      },
      "source": [
        "x_test = validation_generator_cnn.next()\n"
      ],
      "execution_count": null,
      "outputs": []
    },
    {
      "cell_type": "code",
      "metadata": {
        "id": "7dS8Jr-yWgAX"
      },
      "source": [
        "x_test.shape"
      ],
      "execution_count": null,
      "outputs": []
    },
    {
      "cell_type": "code",
      "metadata": {
        "id": "uFgR4tV1VcLl"
      },
      "source": [
        "x_test[0].shape"
      ],
      "execution_count": null,
      "outputs": []
    },
    {
      "cell_type": "code",
      "metadata": {
        "id": "FRc1BD0bVcEl"
      },
      "source": [
        "\n",
        "whatisthis = encoder.predict(x_test[0:1])\n",
        "\n",
        "thislatentvector1 = whatisthis[2]\n"
      ],
      "execution_count": null,
      "outputs": []
    },
    {
      "cell_type": "code",
      "metadata": {
        "id": "fa402YGtVbk9"
      },
      "source": [
        "whatisthis = encoder.predict(x_test[2:3])\n",
        "\n",
        "thislatentvector2 = whatisthis[2]"
      ],
      "execution_count": null,
      "outputs": []
    },
    {
      "cell_type": "code",
      "metadata": {
        "id": "3TDfswu4sGz1"
      },
      "source": [
        "whatisthis = encoder.predict(x_test[4:5])\n",
        "\n",
        "thislatentvector3 = whatisthis[2]"
      ],
      "execution_count": null,
      "outputs": []
    },
    {
      "cell_type": "code",
      "metadata": {
        "id": "T1mzyG5dCZHd"
      },
      "source": [
        ""
      ],
      "execution_count": null,
      "outputs": []
    },
    {
      "cell_type": "code",
      "metadata": {
        "id": "6SP6MECqX_4H"
      },
      "source": [
        "nandJ = thislatentvector1 - thislatentvector2 + thislatentvector3"
      ],
      "execution_count": null,
      "outputs": []
    },
    {
      "cell_type": "code",
      "metadata": {
        "id": "beXGv6jtsG5r"
      },
      "source": [
        "\n",
        "print('      A   -   B   +   C   =  D       ')\n",
        "plt.figure(figsize=(4, 4))\n",
        "plt.subplot(4 , 4 , 1)\n",
        "plt.axis('off')\n",
        "plt.imshow(x_test[0].reshape(digit_size, digit_size , 3 ))\n",
        "\n",
        "plt.subplot(4 , 4 , 2)\n",
        "plt.axis('off')\n",
        "plt.imshow(x_test[2].reshape(digit_size, digit_size, 3))\n",
        "\n",
        "plt.subplot(4 , 4 , 3)\n",
        "plt.axis('off')\n",
        "plt.imshow(x_test[4].reshape(digit_size, digit_size, 3))\n",
        "\n",
        "\n",
        "x_decoded = decoder.predict( [nandJ] )\n",
        "digit = x_decoded[0].reshape(digit_size, digit_size, 3)\n",
        "\n",
        "plt.subplot(4 , 4 , 4)\n",
        "plt.axis('off')\n",
        "plt.imshow(digit)\n",
        "plt.show()\n",
        "\n",
        "\n",
        "print('    ' + str(0) + '  -  ' + str(2) + '  +  ' + str(4)  + ' =    ?    ')\n",
        " \n",
        "\n",
        "  \n",
        "  \n",
        "plt.figure(figsize=(4, 4))\n",
        "plt.subplot(4 , 4 , 1)\n",
        "plt.axis('off')\n",
        "plt.imshow(thislatentvector1.reshape(80, latent_dim_colums))\n",
        "\n",
        "plt.subplot(4 , 4 , 2)\n",
        "plt.axis('off')\n",
        "plt.imshow(thislatentvector2.reshape(80, latent_dim_colums))\n",
        "\n",
        "\n",
        "plt.subplot(4 , 4 , 3)\n",
        "plt.axis('off')\n",
        "plt.imshow(thislatentvector3.reshape(80, latent_dim_colums))\n",
        "\n",
        "\n",
        "plt.subplot(4 , 4 , 4)\n",
        "plt.axis('off')\n",
        "plt.imshow(nandJ.reshape(80, latent_dim_colums))\n",
        "\n",
        "\n",
        "\n",
        "plt.show()\n",
        "\n",
        "x_decoded = decoder.predict( [thislatentvector1 - thislatentvector2] )\n",
        "digit = x_decoded[0].reshape(digit_size, digit_size , 3)\n",
        "\n",
        "print('A-B = E       ')\n",
        "\n",
        "plt.figure(figsize=(4, 1))\n",
        "plt.axis('off')\n",
        "plt.imshow(digit)\n",
        "plt.show()\n"
      ],
      "execution_count": null,
      "outputs": []
    },
    {
      "cell_type": "code",
      "metadata": {
        "id": "4fYLMAk4qIc6"
      },
      "source": [
        "\n",
        "x_test = validation_generator_cnn.next()\n",
        "\n",
        "\n",
        "plt.figure(figsize=(4, 4))\n",
        "plt.subplot(4 , 4 , 1)\n",
        "plt.axis('off')\n",
        "plt.imshow(x_test[0].reshape(digit_size, digit_size , 3 ))\n",
        "\n",
        "whatisthis = encoder.predict(x_test[0:1])\n",
        "\n",
        "thislatentvector1 = whatisthis[2]\n"
      ],
      "execution_count": null,
      "outputs": []
    },
    {
      "cell_type": "code",
      "metadata": {
        "id": "9bU9GCD6f9Fb"
      },
      "source": [
        "x_test = validation_generator_cnn.next()\n",
        "\n",
        "aimage = x_test[0]\n",
        "\n",
        "plt.figure(figsize=(4, 4))\n",
        "plt.subplot(4 , 4 , 1)\n",
        "plt.axis('off')\n",
        "plt.imshow(x_test[0].reshape(digit_size, digit_size , 3 ))\n",
        "\n",
        "whatisthis = encoder.predict(x_test[0:1])\n",
        "\n",
        "thislatentvector2 = whatisthis[2]"
      ],
      "execution_count": null,
      "outputs": []
    },
    {
      "cell_type": "code",
      "metadata": {
        "id": "jiEQhBjSf-_T"
      },
      "source": [
        "x_test = validation_generator_cnn.next()\n",
        "\n",
        "\n",
        "plt.figure(figsize=(4, 4))\n",
        "plt.subplot(4 , 4 , 1)\n",
        "plt.axis('off')\n",
        "plt.imshow(x_test[0].reshape(digit_size, digit_size , 3 ))\n",
        "\n",
        "whatisthis = encoder.predict(x_test[0:1])\n",
        "\n",
        "thislatentvector3 = whatisthis[2]"
      ],
      "execution_count": null,
      "outputs": []
    },
    {
      "cell_type": "code",
      "metadata": {
        "id": "8RilOJB0gc_X"
      },
      "source": [
        "x_test = validation_generator_cnn.next()\n",
        "\n",
        "#for aimage in x_test:\n",
        "  #print(aimage.shape)"
      ],
      "execution_count": null,
      "outputs": []
    },
    {
      "cell_type": "code",
      "metadata": {
        "id": "DE01loE6qIfa"
      },
      "source": [
        "plt.clf()\n",
        "\n",
        "x_test2 = train_generator_cnn.next()\n",
        "\n",
        "x_test3 = validation_generator_cnn.next()\n",
        "\n",
        "counting = 0\n",
        "\n",
        "j = 0\n",
        "for bimage in x_test2:\n",
        "  \n",
        "  j = j + 1\n",
        "  i = 0\n",
        "  for cimage in x_test3:\n",
        "\n",
        "    i = i + 1\n",
        "\n",
        "\n",
        "    plt.figure(figsize=(4, 4))\n",
        "    plt.subplot(4 , 4 , 1)\n",
        "    plt.axis('off')\n",
        "    plt.imshow(x_test2[j])\n",
        "\n",
        "    plt.subplot(4 , 4 , 2)\n",
        "    plt.axis('off')\n",
        "    plt.imshow(x_test3[i])\n",
        "\n",
        "\n",
        "    thislatentvector1 = encoder.predict(x_test[0:1])[2]\n",
        "    thislatentvector2 = encoder.predict(x_test2[j:j+1])[2]\n",
        "    thislatentvector3 = encoder.predict(x_test3[i:i+1])[2]\n",
        "\n",
        "\n",
        "\n",
        "    x_decoded = decoder.predict( [thislatentvector2 - thislatentvector3 ] )\n",
        "    digit = x_decoded[0].reshape(image_size, image_size, 3)\n",
        "\n",
        "    plt.subplot(4 , 4 , 4)\n",
        "    plt.axis('off')\n",
        "    plt.imshow(digit)\n",
        "    plt.show()\n",
        "\n",
        "\n",
        "   # print('    ' + str(imagenumber1) + '  -  ' + str(imagenumber2)  + ' =    ?    ')\n",
        "\n",
        "\n",
        "\n",
        "\n",
        "    plt.figure(figsize=(4, 4))\n",
        "    plt.subplot(4 , 4 , 1)\n",
        "    plt.axis('off')\n",
        "    plt.imshow(thislatentvector2.reshape(80, latent_dim_colums))\n",
        "\n",
        "    plt.subplot(4 , 4 , 2)\n",
        "    plt.axis('off')\n",
        "    plt.imshow(thislatentvector3.reshape(80, latent_dim_colums))\n",
        "\n",
        "\n",
        "\n",
        "    plt.subplot(4 , 4 , 4)\n",
        "    plt.axis('off')\n",
        "    plt.imshow(nandJ.reshape(80, latent_dim_colums))\n",
        "\n",
        "\n",
        "    plt.show()\n",
        "    \n",
        "    if i > 10: \n",
        "      break\n",
        "  if j > 2:\n",
        "    break\n",
        "\n"
      ],
      "execution_count": null,
      "outputs": []
    },
    {
      "cell_type": "code",
      "metadata": {
        "id": "xkoJAjMAGC9e"
      },
      "source": [
        ""
      ],
      "execution_count": null,
      "outputs": []
    },
    {
      "cell_type": "code",
      "metadata": {
        "id": "mBNkqoG7GBRJ"
      },
      "source": [
        "plt.clf()\n",
        "\n",
        "print('     A     -    B     +   C     = ?')\n",
        "\n",
        "x_test = train_generator_cnn.next()\n",
        "\n",
        "x_test2 = train_generator_cnn.next()\n",
        "\n",
        "x_test3 = validation_generator_cnn.next()\n",
        "\n",
        "counting = 0\n",
        "\n",
        "j = 0\n",
        "for bimage in x_test2:\n",
        "  \n",
        "  j = j + 1\n",
        "  i = 0\n",
        "  for cimage in x_test3:\n",
        "\n",
        "    i = i + 1\n",
        "\n",
        "    \n",
        "    plt.figure(figsize=(4, 4))\n",
        "    plt.subplot(4 , 4 , 1)\n",
        "    plt.axis('off')\n",
        "    plt.imshow(x_test[0])\n",
        "\n",
        "\n",
        "#    plt.figure(figsize=(4, 4))\n",
        "    plt.subplot(4 , 4 , 2)\n",
        "    plt.axis('off')\n",
        "    plt.imshow(x_test2[j])\n",
        "\n",
        "#    plt.figure(figsize=(4, 4))\n",
        "    plt.subplot(4 , 4 , 3)\n",
        "    plt.axis('off')\n",
        "    plt.imshow(x_test3[i])\n",
        "\n",
        "\n",
        "    thislatentvector1 = encoder.predict(x_test[0:1])[2]\n",
        "    thislatentvector2 = encoder.predict(x_test2[j:j+1])[2]\n",
        "    thislatentvector3 = encoder.predict(x_test3[i:i+1])[2]\n",
        "\n",
        "\n",
        "\n",
        "    x_decoded = decoder.predict( [thislatentvector1 - thislatentvector2 + thislatentvector3 ] )\n",
        "    digit = x_decoded[0].reshape(image_size, image_size, 3)\n",
        "\n",
        "#    plt.figure(figsize=(4, 4))\n",
        "    plt.subplot(4 , 4 , 4)\n",
        "    plt.axis('off')\n",
        "    plt.imshow(digit)\n",
        "    plt.show()\n",
        "\n",
        "\n",
        "   # print('    ' + str(imagenumber1) + '  -  ' + str(imagenumber2)  + ' =    ?    ')\n",
        "\n",
        "\n",
        "\n",
        "    plt.figure(figsize=(4, 4))\n",
        "    plt.subplot(4 , 4 , 1)\n",
        "    plt.axis('off')\n",
        "    plt.imshow(thislatentvector1.reshape(80, latent_dim_colums))\n",
        "\n",
        "    plt.subplot(4 , 4 , 2)\n",
        "    plt.axis('off')\n",
        "    plt.imshow(thislatentvector2.reshape(80, latent_dim_colums))\n",
        "\n",
        "    plt.subplot(4 , 4 , 3)\n",
        "    plt.axis('off')\n",
        "    plt.imshow(thislatentvector3.reshape(80, latent_dim_colums))\n",
        "\n",
        "    plt.subplot(4 , 4 , 4)\n",
        "    plt.axis('off')\n",
        "    plt.imshow(nandJ.reshape(80, latent_dim_colums))\n",
        "\n",
        "\n",
        "    plt.show()\n",
        "    \n",
        "    if i > 10: \n",
        "      break\n",
        "  if j > 3:\n",
        "    break\n",
        "\n"
      ],
      "execution_count": null,
      "outputs": []
    },
    {
      "cell_type": "code",
      "metadata": {
        "id": "q7BpzllWqIiN"
      },
      "source": [
        ""
      ],
      "execution_count": null,
      "outputs": []
    },
    {
      "cell_type": "code",
      "metadata": {
        "id": "o9aY9_-eqIpH"
      },
      "source": [
        ""
      ],
      "execution_count": null,
      "outputs": []
    }
  ]
}